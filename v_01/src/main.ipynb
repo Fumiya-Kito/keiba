{
 "cells": [
  {
   "cell_type": "markdown",
   "metadata": {},
   "source": [
    "# import"
   ]
  },
  {
   "cell_type": "code",
   "execution_count": null,
   "metadata": {},
   "outputs": [],
   "source": [
    "%load_ext autoreload\n",
    "import os\n",
    "from pathlib import Path\n",
    "import pandas as pd\n",
    "# プロジェクトルートを定義\n",
    "PROJECT_ROOT = Path().resolve().parent.parent\n",
    "\n",
    "# ROOT_DIRの設定\n",
    "os.chdir(PROJECT_ROOT)\n",
    "\n",
    "from v_01.src import preprocessing\n",
    "from common.src import constants"
   ]
  },
  {
   "cell_type": "code",
   "execution_count": null,
   "metadata": {},
   "outputs": [],
   "source": [
    "results_preprocesed = preprocessing.process_results(\n",
    "  input_dir = constants.RACE_RESULTS_RAWDF_DIR,\n",
    "  output_dir = Path(\"v_01\", \"data\", \"rawdf\"),\n",
    "  savefile_name = \"race_results_2023.csv\",\n",
    "  sex_mapping = { \"牡\": 0, \"牝\": 1, \"セ\": 2 }\n",
    ")"
   ]
  },
  {
   "cell_type": "code",
   "execution_count": null,
   "metadata": {},
   "outputs": [],
   "source": [
    "results_preprocesed"
   ]
  },
  {
   "cell_type": "code",
   "execution_count": null,
   "metadata": {},
   "outputs": [],
   "source": [
    "results_preprocesed.info()"
   ]
  },
  {
   "cell_type": "code",
   "execution_count": null,
   "metadata": {},
   "outputs": [],
   "source": [
    "# 重複チェック\n",
    "results_preprocesed.duplicated(subset=[\"race_id\", \"horse_id\"]).sum()"
   ]
  },
  {
   "cell_type": "code",
   "execution_count": null,
   "metadata": {},
   "outputs": [],
   "source": [
    "# 欠損チェック\n",
    "results_preprocesed.isnull().sum()"
   ]
  },
  {
   "cell_type": "markdown",
   "metadata": {},
   "source": [
    "### 馬の過去成績データの加工"
   ]
  },
  {
   "cell_type": "code",
   "execution_count": null,
   "metadata": {},
   "outputs": [],
   "source": [
    "df2 = pd.read_csv(constants.RACE_RESULTS_RAWDF_DIR / \"horse_results_2023.csv\", sep=\"\\t\")\n",
    "df2"
   ]
  },
  {
   "cell_type": "code",
   "execution_count": null,
   "metadata": {},
   "outputs": [],
   "source": [
    "horse_results_preproessed = preprocessing.process_horse_results(\n",
    "    input_dir = constants.RACE_RESULTS_RAWDF_DIR,\n",
    "    output_dir = Path(\"v_01\", \"data\", \"rawdf\"),\n",
    "    savefile_name = \"horse_results_2023.csv\",\n",
    "    race_type_mapping = {\"芝\": 0, \"ダ\": 1, \"障\": 2},\n",
    "    weather_mapping = {\"晴\": 0, \"曇\": 1,  \"雨\": 2, \"小雨\": 3},\n",
    "    ground_state_mapping = {\"良\": 0, \"稍\": 1, \"重\": 2, \"不\": 3, \"稍重\": 1, \"不良\": 3} ,\n",
    "    race_class_mapping = {\"新馬\": -1, \"未勝利\": 0, \"1勝クラス\": 1,\"2勝クラス\": 2, \"3勝クラス\": 3, \"OP\": 4, \"GⅢ\": 5, \"GⅡ\": 6, \"GI\": 7, \"オープン\": 4, \"特別\": 5, \"500万下\": 1, \"1000万下\": 2, \"1600万下\": 3 },\n",
    ")"
   ]
  },
  {
   "cell_type": "code",
   "execution_count": null,
   "metadata": {},
   "outputs": [],
   "source": [
    "horse_results_preproessed"
   ]
  },
  {
   "cell_type": "code",
   "execution_count": null,
   "metadata": {},
   "outputs": [],
   "source": [
    "horse_results_preproessed.info()"
   ]
  },
  {
   "cell_type": "code",
   "execution_count": null,
   "metadata": {},
   "outputs": [],
   "source": [
    "horse_results_preproessed.isnull().sum()"
   ]
  },
  {
   "cell_type": "code",
   "execution_count": null,
   "metadata": {},
   "outputs": [],
   "source": [
    "horse_results_preproessed[horse_results_preproessed.isnull().any(axis=1)]\n"
   ]
  }
 ],
 "metadata": {
  "kernelspec": {
   "display_name": "venv",
   "language": "python",
   "name": "python3"
  },
  "language_info": {
   "codemirror_mode": {
    "name": "ipython",
    "version": 3
   },
   "file_extension": ".py",
   "mimetype": "text/x-python",
   "name": "python",
   "nbconvert_exporter": "python",
   "pygments_lexer": "ipython3",
   "version": "3.11.2"
  }
 },
 "nbformat": 4,
 "nbformat_minor": 2
}
