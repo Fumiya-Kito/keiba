{
 "cells": [
  {
   "cell_type": "markdown",
   "metadata": {},
   "source": [
    "# main NB"
   ]
  },
  {
   "cell_type": "markdown",
   "metadata": {},
   "source": [
    "## import"
   ]
  },
  {
   "cell_type": "code",
   "execution_count": null,
   "metadata": {},
   "outputs": [],
   "source": [
    "%reload_ext autoreload\n",
    "import os\n",
    "import pickle\n",
    "\n",
    "import constants\n",
    "# ROOT_DIRの設定\n",
    "os.chdir(constants.PROJECT_ROOT)\n",
    "\n",
    "from src import scraping\n",
    "from src import create_rawdf\n"
   ]
  },
  {
   "cell_type": "markdown",
   "metadata": {},
   "source": [
    "### 開催日の取得"
   ]
  },
  {
   "cell_type": "code",
   "execution_count": null,
   "metadata": {},
   "outputs": [],
   "source": [
    "from_, to_ = \"2023-01\", \"2023-12\"\n",
    "date_list_2023 = scraping.scrape_kaisai_date(from_, to_)"
   ]
  },
  {
   "cell_type": "code",
   "execution_count": null,
   "metadata": {},
   "outputs": [],
   "source": [
    "date_list_2023"
   ]
  },
  {
   "cell_type": "markdown",
   "metadata": {},
   "source": [
    "### レースIDの取得"
   ]
  },
  {
   "cell_type": "code",
   "execution_count": null,
   "metadata": {},
   "outputs": [],
   "source": [
    "import src.scraping\n",
    "%load_ext autoreload"
   ]
  },
  {
   "cell_type": "code",
   "execution_count": null,
   "metadata": {},
   "outputs": [],
   "source": [
    "%autoreload"
   ]
  },
  {
   "cell_type": "code",
   "execution_count": null,
   "metadata": {},
   "outputs": [],
   "source": [
    "race_id_list = scraping.scrape_race_ids(date_list_2023)"
   ]
  },
  {
   "cell_type": "code",
   "execution_count": null,
   "metadata": {},
   "outputs": [],
   "source": [
    "race_id_list\n",
    "len(race_id_list)"
   ]
  },
  {
   "cell_type": "markdown",
   "metadata": {},
   "source": [
    "### pickleに保存する"
   ]
  },
  {
   "cell_type": "code",
   "execution_count": null,
   "metadata": {},
   "outputs": [],
   "source": [
    "import pickle"
   ]
  },
  {
   "cell_type": "code",
   "execution_count": null,
   "metadata": {},
   "outputs": [],
   "source": [
    "with open(\"race_id_list_2023.pkl\", \"wb\") as f:\n",
    "  pickle.dump(race_id_list, f)"
   ]
  },
  {
   "cell_type": "markdown",
   "metadata": {},
   "source": [
    "### race詳細ページの取得"
   ]
  },
  {
   "cell_type": "code",
   "execution_count": null,
   "metadata": {},
   "outputs": [],
   "source": [
    "from constants import RACE_DETAIL_ID_DIR, RACE_DETAIL_HTML_DIR"
   ]
  },
  {
   "cell_type": "code",
   "execution_count": null,
   "metadata": {},
   "outputs": [],
   "source": [
    "import pickle\n",
    "\n",
    "with open(RACE_DETAIL_ID_DIR / \"race_id_list_2023.pkl\", \"rb\") as f:\n",
    "  race_id_list = pickle.load(f)"
   ]
  },
  {
   "cell_type": "code",
   "execution_count": null,
   "metadata": {},
   "outputs": [],
   "source": [
    "from src import scraping\n",
    "\n",
    "html_paths_race_list = scraping.scrape_race_detail_html(race_id_list=race_id_list, save_dir=RACE_DETAIL_HTML_DIR)"
   ]
  },
  {
   "cell_type": "markdown",
   "metadata": {},
   "source": [
    "# レース結果の作成"
   ]
  },
  {
   "cell_type": "code",
   "execution_count": null,
   "metadata": {},
   "outputs": [],
   "source": [
    "html_path_list = list(constants.RACE_DETAIL_HTML_DIR.glob(\"*\"))\n",
    "results = create_rawdf.create_race_results(html_path_list, constants.RACE_RESULTS_RAWDF_DIR, \"race_results_2023.csv\")"
   ]
  },
  {
   "cell_type": "code",
   "execution_count": null,
   "metadata": {},
   "outputs": [],
   "source": [
    "results"
   ]
  },
  {
   "cell_type": "markdown",
   "metadata": {},
   "source": [
    "## 馬の過去成績テーブルを作成"
   ]
  },
  {
   "cell_type": "code",
   "execution_count": null,
   "metadata": {},
   "outputs": [],
   "source": [
    "if \"html_paths_race\" not in locals():\n",
    "  html_paths_race = list(scraping.RACE_DETAIL_HTML_DIR.glob(\"*.bin\"))\n",
    "# horse_results = create_rawdf.create_race_results(html_path_list=)"
   ]
  },
  {
   "cell_type": "code",
   "execution_count": null,
   "metadata": {},
   "outputs": [],
   "source": [
    "from src import constants\n",
    "html_paths_race = list(scraping.RACE_DETAIL_HTML_DIR.glob(\"*.bin\"))\n",
    "results = create_rawdf.create_race_results(html_path_list=html_paths_race, save_dir=constants.RACE_RESULTS_RAWDF_DIR, save_filename=\"race_results_2023.csv\")"
   ]
  },
  {
   "cell_type": "code",
   "execution_count": null,
   "metadata": {},
   "outputs": [],
   "source": [
    "import pandas as pd\n",
    "results = pd.read_csv(constants.RACE_RESULTS_RAWDF_DIR / \"race_results_2023.csv\", sep=\"\\t\")\n",
    "len(results)"
   ]
  },
  {
   "cell_type": "code",
   "execution_count": null,
   "metadata": {},
   "outputs": [],
   "source": [
    "# 欠損値チェック\n",
    "# results\n",
    "results.isnull().sum()"
   ]
  },
  {
   "cell_type": "code",
   "execution_count": null,
   "metadata": {},
   "outputs": [],
   "source": [
    "# 重複チェック\n",
    "# race_idとhorse_idで重複するか確認\n",
    "results.reset_index()[[\"race_id\", \"horse_id\"]].duplicated().sum()"
   ]
  },
  {
   "cell_type": "markdown",
   "metadata": {},
   "source": [
    "### horseページからデータ取得"
   ]
  },
  {
   "cell_type": "code",
   "execution_count": null,
   "metadata": {},
   "outputs": [],
   "source": [
    "horse_id_list = results[\"horse_id\"].unique()\n",
    "len(horse_id_list)"
   ]
  },
  {
   "cell_type": "code",
   "execution_count": null,
   "metadata": {},
   "outputs": [],
   "source": [
    "# scraping, 更新したい場合はskip=Falseとする\n",
    "html_paths_horse = scraping.scrape_horse_detail_html(horse_id_list, skip=True)"
   ]
  },
  {
   "cell_type": "code",
   "execution_count": null,
   "metadata": {},
   "outputs": [],
   "source": [
    "# del html_paths_horse\n",
    "if \"html_paths_horse\" not in locals():\n",
    "  html_paths_horse = list(constants.HORSE_DETAIL_HTML_DIR.glob(\"*.bin\"))\n",
    "# horse_results = create_rawdf.create_horse_results(html_path_list=)"
   ]
  },
  {
   "cell_type": "code",
   "execution_count": null,
   "metadata": {},
   "outputs": [],
   "source": [
    "len(html_paths_horse)"
   ]
  },
  {
   "cell_type": "markdown",
   "metadata": {},
   "source": [
    "### 馬の過去成績テーブルの作成"
   ]
  },
  {
   "cell_type": "code",
   "execution_count": null,
   "metadata": {},
   "outputs": [],
   "source": [
    "horse_results = create_rawdf.create_horse_results(html_paths_horse, constants.RACE_RESULTS_RAWDF_DIR, \"horse_resutls_2023.csv\")"
   ]
  },
  {
   "cell_type": "code",
   "execution_count": null,
   "metadata": {},
   "outputs": [],
   "source": [
    "len(horse_results)\n",
    "  \n",
    "# len(horse_results.index.unique())"
   ]
  }
 ],
 "metadata": {
  "kernelspec": {
   "display_name": "venv",
   "language": "python",
   "name": "python3"
  },
  "language_info": {
   "codemirror_mode": {
    "name": "ipython",
    "version": 3
   },
   "file_extension": ".py",
   "mimetype": "text/x-python",
   "name": "python",
   "nbconvert_exporter": "python",
   "pygments_lexer": "ipython3",
   "version": "3.11.2"
  }
 },
 "nbformat": 4,
 "nbformat_minor": 2
}
