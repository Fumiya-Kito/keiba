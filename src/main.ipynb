{
 "cells": [
  {
   "cell_type": "markdown",
   "metadata": {},
   "source": [
    "# main NB"
   ]
  },
  {
   "cell_type": "code",
   "execution_count": 1,
   "metadata": {},
   "outputs": [
    {
     "name": "stdout",
     "output_type": "stream",
     "text": [
      "Current working directory: /Users/fumiya/dev/python/keiba\n"
     ]
    }
   ],
   "source": [
    "import os\n",
    "from constants import PROJECT_ROOT\n",
    "\n",
    "os.chdir(PROJECT_ROOT)\n",
    "print(\"Current working directory:\", os.getcwd())"
   ]
  },
  {
   "cell_type": "markdown",
   "metadata": {},
   "source": [
    "### 開催日の取得"
   ]
  },
  {
   "cell_type": "code",
   "execution_count": 2,
   "metadata": {},
   "outputs": [],
   "source": [
    "from src import scraping"
   ]
  },
  {
   "cell_type": "code",
   "execution_count": 30,
   "metadata": {},
   "outputs": [
    {
     "name": "stderr",
     "output_type": "stream",
     "text": [
      "  0%|          | 0/12 [00:00<?, ?it/s]"
     ]
    },
    {
     "name": "stderr",
     "output_type": "stream",
     "text": [
      "100%|██████████| 12/12 [00:23<00:00,  1.95s/it]\n"
     ]
    }
   ],
   "source": [
    "from_, to_ = \"2023-01\", \"2023-12\"\n",
    "date_list_2023 = scraping.scrape_kaisai_date(from_, to_)"
   ]
  },
  {
   "cell_type": "code",
   "execution_count": 3,
   "metadata": {},
   "outputs": [
    {
     "ename": "NameError",
     "evalue": "name 'date_list_2023' is not defined",
     "output_type": "error",
     "traceback": [
      "\u001b[0;31m---------------------------------------------------------------------------\u001b[0m",
      "\u001b[0;31mNameError\u001b[0m                                 Traceback (most recent call last)",
      "Cell \u001b[0;32mIn[3], line 1\u001b[0m\n\u001b[0;32m----> 1\u001b[0m \u001b[43mdate_list_2023\u001b[49m\n",
      "\u001b[0;31mNameError\u001b[0m: name 'date_list_2023' is not defined"
     ]
    }
   ],
   "source": [
    "date_list_2023"
   ]
  },
  {
   "cell_type": "markdown",
   "metadata": {},
   "source": [
    "### レースIDの取得"
   ]
  },
  {
   "cell_type": "code",
   "execution_count": 10,
   "metadata": {},
   "outputs": [],
   "source": [
    "import src.scraping\n",
    "%load_ext autoreload"
   ]
  },
  {
   "cell_type": "code",
   "execution_count": 33,
   "metadata": {},
   "outputs": [],
   "source": [
    "%autoreload"
   ]
  },
  {
   "cell_type": "code",
   "execution_count": 38,
   "metadata": {},
   "outputs": [
    {
     "name": "stderr",
     "output_type": "stream",
     "text": [
      "100%|██████████| 107/107 [24:52<00:00, 13.95s/it] \n"
     ]
    }
   ],
   "source": [
    "race_id_list = scraping.scrape_race_ids(date_list_2023)"
   ]
  },
  {
   "cell_type": "code",
   "execution_count": 43,
   "metadata": {},
   "outputs": [
    {
     "data": {
      "text/plain": [
       "3456"
      ]
     },
     "execution_count": 43,
     "metadata": {},
     "output_type": "execute_result"
    }
   ],
   "source": [
    "race_id_list\n",
    "len(race_id_list)"
   ]
  },
  {
   "cell_type": "markdown",
   "metadata": {},
   "source": [
    "### pickleに保存する"
   ]
  },
  {
   "cell_type": "code",
   "execution_count": 36,
   "metadata": {},
   "outputs": [],
   "source": [
    "import pickle"
   ]
  },
  {
   "cell_type": "code",
   "execution_count": 44,
   "metadata": {},
   "outputs": [],
   "source": [
    "with open(\"race_id_list_2023.pkl\", \"wb\") as f:\n",
    "  pickle.dump(race_id_list, f)"
   ]
  },
  {
   "cell_type": "markdown",
   "metadata": {},
   "source": [
    "### race詳細ページの取得"
   ]
  },
  {
   "cell_type": "code",
   "execution_count": 4,
   "metadata": {},
   "outputs": [],
   "source": [
    "from constants import RACE_DETAIL_ID_DIR, RACE_DETAIL_HTML_DIR"
   ]
  },
  {
   "cell_type": "code",
   "execution_count": 5,
   "metadata": {},
   "outputs": [],
   "source": [
    "import pickle\n",
    "\n",
    "with open(RACE_DETAIL_ID_DIR / \"race_id_list_2023.pkl\", \"rb\") as f:\n",
    "  race_id_list = pickle.load(f)"
   ]
  },
  {
   "cell_type": "code",
   "execution_count": 9,
   "metadata": {},
   "outputs": [
    {
     "name": "stderr",
     "output_type": "stream",
     "text": [
      "  0%|          | 0/3456 [00:00<?, ?it/s]"
     ]
    },
    {
     "name": "stdout",
     "output_type": "stream",
     "text": [
      "skipped /Users/fumiya/dev/python/keiba/data/html/race/202306010101.bin\n",
      "skipped /Users/fumiya/dev/python/keiba/data/html/race/202306010102.bin\n",
      "skipped /Users/fumiya/dev/python/keiba/data/html/race/202306010103.bin\n",
      "skipped /Users/fumiya/dev/python/keiba/data/html/race/202306010104.bin\n",
      "skipped /Users/fumiya/dev/python/keiba/data/html/race/202306010105.bin\n",
      "skipped /Users/fumiya/dev/python/keiba/data/html/race/202306010106.bin\n",
      "skipped /Users/fumiya/dev/python/keiba/data/html/race/202306010107.bin\n",
      "skipped /Users/fumiya/dev/python/keiba/data/html/race/202306010108.bin\n",
      "skipped /Users/fumiya/dev/python/keiba/data/html/race/202306010109.bin\n",
      "skipped /Users/fumiya/dev/python/keiba/data/html/race/202306010110.bin\n",
      "skipped /Users/fumiya/dev/python/keiba/data/html/race/202306010111.bin\n",
      "skipped /Users/fumiya/dev/python/keiba/data/html/race/202306010112.bin\n",
      "skipped /Users/fumiya/dev/python/keiba/data/html/race/202307010101.bin\n",
      "skipped /Users/fumiya/dev/python/keiba/data/html/race/202307010102.bin\n",
      "skipped /Users/fumiya/dev/python/keiba/data/html/race/202307010103.bin\n",
      "skipped /Users/fumiya/dev/python/keiba/data/html/race/202307010104.bin\n",
      "skipped /Users/fumiya/dev/python/keiba/data/html/race/202307010105.bin\n",
      "skipped /Users/fumiya/dev/python/keiba/data/html/race/202307010106.bin\n",
      "skipped /Users/fumiya/dev/python/keiba/data/html/race/202307010107.bin\n",
      "skipped /Users/fumiya/dev/python/keiba/data/html/race/202307010108.bin\n",
      "skipped /Users/fumiya/dev/python/keiba/data/html/race/202307010109.bin\n",
      "skipped /Users/fumiya/dev/python/keiba/data/html/race/202307010110.bin\n",
      "skipped /Users/fumiya/dev/python/keiba/data/html/race/202307010111.bin\n",
      "skipped /Users/fumiya/dev/python/keiba/data/html/race/202307010112.bin\n",
      "skipped /Users/fumiya/dev/python/keiba/data/html/race/202306010201.bin\n",
      "skipped /Users/fumiya/dev/python/keiba/data/html/race/202306010202.bin\n",
      "skipped /Users/fumiya/dev/python/keiba/data/html/race/202306010203.bin\n",
      "skipped /Users/fumiya/dev/python/keiba/data/html/race/202306010204.bin\n",
      "skipped /Users/fumiya/dev/python/keiba/data/html/race/202306010205.bin\n",
      "skipped /Users/fumiya/dev/python/keiba/data/html/race/202306010206.bin\n",
      "skipped /Users/fumiya/dev/python/keiba/data/html/race/202306010207.bin\n",
      "skipped /Users/fumiya/dev/python/keiba/data/html/race/202306010208.bin\n",
      "skipped /Users/fumiya/dev/python/keiba/data/html/race/202306010209.bin\n",
      "skipped /Users/fumiya/dev/python/keiba/data/html/race/202306010210.bin\n",
      "skipped /Users/fumiya/dev/python/keiba/data/html/race/202306010211.bin\n",
      "skipped /Users/fumiya/dev/python/keiba/data/html/race/202306010212.bin\n",
      "skipped /Users/fumiya/dev/python/keiba/data/html/race/202307010201.bin\n",
      "skipped /Users/fumiya/dev/python/keiba/data/html/race/202307010202.bin\n",
      "skipped /Users/fumiya/dev/python/keiba/data/html/race/202307010203.bin\n",
      "skipped /Users/fumiya/dev/python/keiba/data/html/race/202307010204.bin\n",
      "skipped /Users/fumiya/dev/python/keiba/data/html/race/202307010205.bin\n",
      "skipped /Users/fumiya/dev/python/keiba/data/html/race/202307010206.bin\n",
      "skipped /Users/fumiya/dev/python/keiba/data/html/race/202307010207.bin\n",
      "skipped /Users/fumiya/dev/python/keiba/data/html/race/202307010208.bin\n",
      "skipped /Users/fumiya/dev/python/keiba/data/html/race/202307010209.bin\n",
      "skipped /Users/fumiya/dev/python/keiba/data/html/race/202307010210.bin\n",
      "skipped /Users/fumiya/dev/python/keiba/data/html/race/202307010211.bin\n",
      "skipped /Users/fumiya/dev/python/keiba/data/html/race/202307010212.bin\n",
      "skipped /Users/fumiya/dev/python/keiba/data/html/race/202306010301.bin\n",
      "skipped /Users/fumiya/dev/python/keiba/data/html/race/202306010302.bin\n",
      "skipped /Users/fumiya/dev/python/keiba/data/html/race/202306010303.bin\n",
      "skipped /Users/fumiya/dev/python/keiba/data/html/race/202306010304.bin\n",
      "skipped /Users/fumiya/dev/python/keiba/data/html/race/202306010305.bin\n",
      "skipped /Users/fumiya/dev/python/keiba/data/html/race/202306010306.bin\n",
      "skipped /Users/fumiya/dev/python/keiba/data/html/race/202306010307.bin\n",
      "skipped /Users/fumiya/dev/python/keiba/data/html/race/202306010308.bin\n",
      "skipped /Users/fumiya/dev/python/keiba/data/html/race/202306010309.bin\n",
      "skipped /Users/fumiya/dev/python/keiba/data/html/race/202306010310.bin\n",
      "skipped /Users/fumiya/dev/python/keiba/data/html/race/202306010311.bin\n",
      "skipped /Users/fumiya/dev/python/keiba/data/html/race/202306010312.bin\n",
      "skipped /Users/fumiya/dev/python/keiba/data/html/race/202307010301.bin\n",
      "skipped /Users/fumiya/dev/python/keiba/data/html/race/202307010302.bin\n",
      "skipped /Users/fumiya/dev/python/keiba/data/html/race/202307010303.bin\n",
      "skipped /Users/fumiya/dev/python/keiba/data/html/race/202307010304.bin\n",
      "skipped /Users/fumiya/dev/python/keiba/data/html/race/202307010305.bin\n",
      "skipped /Users/fumiya/dev/python/keiba/data/html/race/202307010306.bin\n",
      "skipped /Users/fumiya/dev/python/keiba/data/html/race/202307010307.bin\n",
      "skipped /Users/fumiya/dev/python/keiba/data/html/race/202307010308.bin\n",
      "skipped /Users/fumiya/dev/python/keiba/data/html/race/202307010309.bin\n",
      "skipped /Users/fumiya/dev/python/keiba/data/html/race/202307010310.bin\n",
      "skipped /Users/fumiya/dev/python/keiba/data/html/race/202307010311.bin\n",
      "skipped /Users/fumiya/dev/python/keiba/data/html/race/202307010312.bin\n",
      "skipped /Users/fumiya/dev/python/keiba/data/html/race/202306010401.bin\n",
      "skipped /Users/fumiya/dev/python/keiba/data/html/race/202306010402.bin\n",
      "skipped /Users/fumiya/dev/python/keiba/data/html/race/202306010403.bin\n",
      "skipped /Users/fumiya/dev/python/keiba/data/html/race/202306010404.bin\n",
      "skipped /Users/fumiya/dev/python/keiba/data/html/race/202306010405.bin\n",
      "skipped /Users/fumiya/dev/python/keiba/data/html/race/202306010406.bin\n",
      "skipped /Users/fumiya/dev/python/keiba/data/html/race/202306010407.bin\n",
      "skipped /Users/fumiya/dev/python/keiba/data/html/race/202306010408.bin\n",
      "skipped /Users/fumiya/dev/python/keiba/data/html/race/202306010409.bin\n",
      "skipped /Users/fumiya/dev/python/keiba/data/html/race/202306010410.bin\n",
      "skipped /Users/fumiya/dev/python/keiba/data/html/race/202306010411.bin\n",
      "skipped /Users/fumiya/dev/python/keiba/data/html/race/202306010412.bin\n",
      "skipped /Users/fumiya/dev/python/keiba/data/html/race/202307010401.bin\n",
      "skipped /Users/fumiya/dev/python/keiba/data/html/race/202307010402.bin\n",
      "skipped /Users/fumiya/dev/python/keiba/data/html/race/202307010403.bin\n",
      "skipped /Users/fumiya/dev/python/keiba/data/html/race/202307010404.bin\n",
      "skipped /Users/fumiya/dev/python/keiba/data/html/race/202307010405.bin\n",
      "skipped /Users/fumiya/dev/python/keiba/data/html/race/202307010406.bin\n",
      "skipped /Users/fumiya/dev/python/keiba/data/html/race/202307010407.bin\n",
      "skipped /Users/fumiya/dev/python/keiba/data/html/race/202307010408.bin\n",
      "skipped /Users/fumiya/dev/python/keiba/data/html/race/202307010409.bin\n",
      "skipped /Users/fumiya/dev/python/keiba/data/html/race/202307010410.bin\n",
      "skipped /Users/fumiya/dev/python/keiba/data/html/race/202307010411.bin\n",
      "skipped /Users/fumiya/dev/python/keiba/data/html/race/202307010412.bin\n",
      "skipped /Users/fumiya/dev/python/keiba/data/html/race/202306010501.bin\n",
      "skipped /Users/fumiya/dev/python/keiba/data/html/race/202306010502.bin\n",
      "skipped /Users/fumiya/dev/python/keiba/data/html/race/202306010503.bin\n",
      "skipped /Users/fumiya/dev/python/keiba/data/html/race/202306010504.bin\n",
      "skipped /Users/fumiya/dev/python/keiba/data/html/race/202306010505.bin\n",
      "skipped /Users/fumiya/dev/python/keiba/data/html/race/202306010506.bin\n",
      "skipped /Users/fumiya/dev/python/keiba/data/html/race/202306010507.bin\n",
      "skipped /Users/fumiya/dev/python/keiba/data/html/race/202306010508.bin\n",
      "skipped /Users/fumiya/dev/python/keiba/data/html/race/202306010509.bin\n",
      "skipped /Users/fumiya/dev/python/keiba/data/html/race/202306010510.bin\n",
      "skipped /Users/fumiya/dev/python/keiba/data/html/race/202306010511.bin\n",
      "skipped /Users/fumiya/dev/python/keiba/data/html/race/202306010512.bin\n",
      "skipped /Users/fumiya/dev/python/keiba/data/html/race/202307010501.bin\n",
      "skipped /Users/fumiya/dev/python/keiba/data/html/race/202307010502.bin\n",
      "skipped /Users/fumiya/dev/python/keiba/data/html/race/202307010503.bin\n",
      "skipped /Users/fumiya/dev/python/keiba/data/html/race/202307010504.bin\n",
      "skipped /Users/fumiya/dev/python/keiba/data/html/race/202307010505.bin\n",
      "skipped /Users/fumiya/dev/python/keiba/data/html/race/202307010506.bin\n",
      "skipped /Users/fumiya/dev/python/keiba/data/html/race/202307010507.bin\n",
      "skipped /Users/fumiya/dev/python/keiba/data/html/race/202307010508.bin\n",
      "skipped /Users/fumiya/dev/python/keiba/data/html/race/202307010509.bin\n",
      "skipped /Users/fumiya/dev/python/keiba/data/html/race/202307010510.bin\n",
      "skipped /Users/fumiya/dev/python/keiba/data/html/race/202307010511.bin\n",
      "skipped /Users/fumiya/dev/python/keiba/data/html/race/202307010512.bin\n",
      "skipped /Users/fumiya/dev/python/keiba/data/html/race/202310010101.bin\n",
      "skipped /Users/fumiya/dev/python/keiba/data/html/race/202310010102.bin\n",
      "skipped /Users/fumiya/dev/python/keiba/data/html/race/202310010103.bin\n",
      "skipped /Users/fumiya/dev/python/keiba/data/html/race/202310010104.bin\n",
      "skipped /Users/fumiya/dev/python/keiba/data/html/race/202310010105.bin\n",
      "skipped /Users/fumiya/dev/python/keiba/data/html/race/202310010106.bin\n",
      "skipped /Users/fumiya/dev/python/keiba/data/html/race/202310010107.bin\n",
      "skipped /Users/fumiya/dev/python/keiba/data/html/race/202310010108.bin\n",
      "skipped /Users/fumiya/dev/python/keiba/data/html/race/202310010109.bin\n",
      "skipped /Users/fumiya/dev/python/keiba/data/html/race/202310010110.bin\n",
      "skipped /Users/fumiya/dev/python/keiba/data/html/race/202310010111.bin\n",
      "skipped /Users/fumiya/dev/python/keiba/data/html/race/202310010112.bin\n",
      "skipped /Users/fumiya/dev/python/keiba/data/html/race/202306010601.bin\n",
      "skipped /Users/fumiya/dev/python/keiba/data/html/race/202306010602.bin\n",
      "skipped /Users/fumiya/dev/python/keiba/data/html/race/202306010603.bin\n",
      "skipped /Users/fumiya/dev/python/keiba/data/html/race/202306010604.bin\n",
      "skipped /Users/fumiya/dev/python/keiba/data/html/race/202306010605.bin\n",
      "skipped /Users/fumiya/dev/python/keiba/data/html/race/202306010606.bin\n",
      "skipped /Users/fumiya/dev/python/keiba/data/html/race/202306010607.bin\n",
      "skipped /Users/fumiya/dev/python/keiba/data/html/race/202306010608.bin\n",
      "skipped /Users/fumiya/dev/python/keiba/data/html/race/202306010609.bin\n",
      "skipped /Users/fumiya/dev/python/keiba/data/html/race/202306010610.bin\n",
      "skipped /Users/fumiya/dev/python/keiba/data/html/race/202306010611.bin\n",
      "skipped /Users/fumiya/dev/python/keiba/data/html/race/202306010612.bin\n",
      "skipped /Users/fumiya/dev/python/keiba/data/html/race/202307010601.bin\n",
      "skipped /Users/fumiya/dev/python/keiba/data/html/race/202307010602.bin\n",
      "skipped /Users/fumiya/dev/python/keiba/data/html/race/202307010603.bin\n",
      "skipped /Users/fumiya/dev/python/keiba/data/html/race/202307010604.bin\n",
      "skipped /Users/fumiya/dev/python/keiba/data/html/race/202307010605.bin\n",
      "skipped /Users/fumiya/dev/python/keiba/data/html/race/202307010606.bin\n",
      "skipped /Users/fumiya/dev/python/keiba/data/html/race/202307010607.bin\n",
      "skipped /Users/fumiya/dev/python/keiba/data/html/race/202307010608.bin\n",
      "skipped /Users/fumiya/dev/python/keiba/data/html/race/202307010609.bin\n",
      "skipped /Users/fumiya/dev/python/keiba/data/html/race/202307010610.bin\n",
      "skipped /Users/fumiya/dev/python/keiba/data/html/race/202307010611.bin\n",
      "skipped /Users/fumiya/dev/python/keiba/data/html/race/202307010612.bin\n",
      "skipped /Users/fumiya/dev/python/keiba/data/html/race/202310010201.bin\n",
      "skipped /Users/fumiya/dev/python/keiba/data/html/race/202310010202.bin\n",
      "skipped /Users/fumiya/dev/python/keiba/data/html/race/202310010203.bin\n",
      "skipped /Users/fumiya/dev/python/keiba/data/html/race/202310010204.bin\n",
      "skipped /Users/fumiya/dev/python/keiba/data/html/race/202310010205.bin\n",
      "skipped /Users/fumiya/dev/python/keiba/data/html/race/202310010206.bin\n",
      "skipped /Users/fumiya/dev/python/keiba/data/html/race/202310010207.bin\n",
      "skipped /Users/fumiya/dev/python/keiba/data/html/race/202310010208.bin\n",
      "skipped /Users/fumiya/dev/python/keiba/data/html/race/202310010209.bin\n",
      "skipped /Users/fumiya/dev/python/keiba/data/html/race/202310010210.bin\n",
      "skipped /Users/fumiya/dev/python/keiba/data/html/race/202310010211.bin\n",
      "skipped /Users/fumiya/dev/python/keiba/data/html/race/202310010212.bin\n",
      "skipped /Users/fumiya/dev/python/keiba/data/html/race/202306010701.bin\n",
      "skipped /Users/fumiya/dev/python/keiba/data/html/race/202306010702.bin\n",
      "skipped /Users/fumiya/dev/python/keiba/data/html/race/202306010703.bin\n",
      "skipped /Users/fumiya/dev/python/keiba/data/html/race/202306010704.bin\n",
      "skipped /Users/fumiya/dev/python/keiba/data/html/race/202306010705.bin\n",
      "skipped /Users/fumiya/dev/python/keiba/data/html/race/202306010706.bin\n",
      "skipped /Users/fumiya/dev/python/keiba/data/html/race/202306010707.bin\n",
      "skipped /Users/fumiya/dev/python/keiba/data/html/race/202306010708.bin\n",
      "skipped /Users/fumiya/dev/python/keiba/data/html/race/202306010709.bin\n",
      "skipped /Users/fumiya/dev/python/keiba/data/html/race/202306010710.bin\n",
      "skipped /Users/fumiya/dev/python/keiba/data/html/race/202306010711.bin\n",
      "skipped /Users/fumiya/dev/python/keiba/data/html/race/202306010712.bin\n",
      "skipped /Users/fumiya/dev/python/keiba/data/html/race/202307010701.bin\n",
      "skipped /Users/fumiya/dev/python/keiba/data/html/race/202307010702.bin\n",
      "skipped /Users/fumiya/dev/python/keiba/data/html/race/202307010703.bin\n",
      "skipped /Users/fumiya/dev/python/keiba/data/html/race/202307010704.bin\n",
      "skipped /Users/fumiya/dev/python/keiba/data/html/race/202307010705.bin\n",
      "skipped /Users/fumiya/dev/python/keiba/data/html/race/202307010706.bin\n",
      "skipped /Users/fumiya/dev/python/keiba/data/html/race/202307010707.bin\n",
      "skipped /Users/fumiya/dev/python/keiba/data/html/race/202307010708.bin\n",
      "skipped /Users/fumiya/dev/python/keiba/data/html/race/202307010709.bin\n",
      "skipped /Users/fumiya/dev/python/keiba/data/html/race/202307010710.bin\n",
      "skipped /Users/fumiya/dev/python/keiba/data/html/race/202307010711.bin\n",
      "skipped /Users/fumiya/dev/python/keiba/data/html/race/202307010712.bin\n",
      "skipped /Users/fumiya/dev/python/keiba/data/html/race/202310010301.bin\n",
      "skipped /Users/fumiya/dev/python/keiba/data/html/race/202310010302.bin\n",
      "skipped /Users/fumiya/dev/python/keiba/data/html/race/202310010303.bin\n",
      "skipped /Users/fumiya/dev/python/keiba/data/html/race/202310010304.bin\n",
      "skipped /Users/fumiya/dev/python/keiba/data/html/race/202310010305.bin\n",
      "skipped /Users/fumiya/dev/python/keiba/data/html/race/202310010306.bin\n",
      "skipped /Users/fumiya/dev/python/keiba/data/html/race/202310010307.bin\n",
      "skipped /Users/fumiya/dev/python/keiba/data/html/race/202310010308.bin\n",
      "skipped /Users/fumiya/dev/python/keiba/data/html/race/202310010309.bin\n",
      "skipped /Users/fumiya/dev/python/keiba/data/html/race/202310010310.bin\n",
      "skipped /Users/fumiya/dev/python/keiba/data/html/race/202310010311.bin\n",
      "skipped /Users/fumiya/dev/python/keiba/data/html/race/202310010312.bin\n",
      "skipped /Users/fumiya/dev/python/keiba/data/html/race/202306010801.bin\n",
      "skipped /Users/fumiya/dev/python/keiba/data/html/race/202306010802.bin\n",
      "skipped /Users/fumiya/dev/python/keiba/data/html/race/202306010803.bin\n",
      "skipped /Users/fumiya/dev/python/keiba/data/html/race/202306010804.bin\n",
      "skipped /Users/fumiya/dev/python/keiba/data/html/race/202306010805.bin\n",
      "skipped /Users/fumiya/dev/python/keiba/data/html/race/202306010806.bin\n",
      "skipped /Users/fumiya/dev/python/keiba/data/html/race/202306010807.bin\n",
      "skipped /Users/fumiya/dev/python/keiba/data/html/race/202306010808.bin\n",
      "skipped /Users/fumiya/dev/python/keiba/data/html/race/202306010809.bin\n",
      "skipped /Users/fumiya/dev/python/keiba/data/html/race/202306010810.bin\n",
      "skipped /Users/fumiya/dev/python/keiba/data/html/race/202306010811.bin\n",
      "skipped /Users/fumiya/dev/python/keiba/data/html/race/202306010812.bin\n",
      "skipped /Users/fumiya/dev/python/keiba/data/html/race/202307010801.bin\n",
      "skipped /Users/fumiya/dev/python/keiba/data/html/race/202307010802.bin\n",
      "skipped /Users/fumiya/dev/python/keiba/data/html/race/202307010803.bin\n"
     ]
    },
    {
     "name": "stderr",
     "output_type": "stream",
     "text": [
      " 50%|████▉     | 1721/3456 [2:16:28<2:17:35,  4.76s/it]    \n"
     ]
    },
    {
     "ename": "URLError",
     "evalue": "<urlopen error [Errno 8] nodename nor servname provided, or not known>",
     "output_type": "error",
     "traceback": [
      "\u001b[0;31m---------------------------------------------------------------------------\u001b[0m",
      "\u001b[0;31mgaierror\u001b[0m                                  Traceback (most recent call last)",
      "File \u001b[0;32m~/.pyenv/versions/3.11.2/lib/python3.11/urllib/request.py:1348\u001b[0m, in \u001b[0;36mAbstractHTTPHandler.do_open\u001b[0;34m(self, http_class, req, **http_conn_args)\u001b[0m\n\u001b[1;32m   1347\u001b[0m \u001b[38;5;28;01mtry\u001b[39;00m:\n\u001b[0;32m-> 1348\u001b[0m     \u001b[43mh\u001b[49m\u001b[38;5;241;43m.\u001b[39;49m\u001b[43mrequest\u001b[49m\u001b[43m(\u001b[49m\u001b[43mreq\u001b[49m\u001b[38;5;241;43m.\u001b[39;49m\u001b[43mget_method\u001b[49m\u001b[43m(\u001b[49m\u001b[43m)\u001b[49m\u001b[43m,\u001b[49m\u001b[43m \u001b[49m\u001b[43mreq\u001b[49m\u001b[38;5;241;43m.\u001b[39;49m\u001b[43mselector\u001b[49m\u001b[43m,\u001b[49m\u001b[43m \u001b[49m\u001b[43mreq\u001b[49m\u001b[38;5;241;43m.\u001b[39;49m\u001b[43mdata\u001b[49m\u001b[43m,\u001b[49m\u001b[43m \u001b[49m\u001b[43mheaders\u001b[49m\u001b[43m,\u001b[49m\n\u001b[1;32m   1349\u001b[0m \u001b[43m              \u001b[49m\u001b[43mencode_chunked\u001b[49m\u001b[38;5;241;43m=\u001b[39;49m\u001b[43mreq\u001b[49m\u001b[38;5;241;43m.\u001b[39;49m\u001b[43mhas_header\u001b[49m\u001b[43m(\u001b[49m\u001b[38;5;124;43m'\u001b[39;49m\u001b[38;5;124;43mTransfer-encoding\u001b[39;49m\u001b[38;5;124;43m'\u001b[39;49m\u001b[43m)\u001b[49m\u001b[43m)\u001b[49m\n\u001b[1;32m   1350\u001b[0m \u001b[38;5;28;01mexcept\u001b[39;00m \u001b[38;5;167;01mOSError\u001b[39;00m \u001b[38;5;28;01mas\u001b[39;00m err: \u001b[38;5;66;03m# timeout error\u001b[39;00m\n",
      "File \u001b[0;32m~/.pyenv/versions/3.11.2/lib/python3.11/http/client.py:1282\u001b[0m, in \u001b[0;36mHTTPConnection.request\u001b[0;34m(self, method, url, body, headers, encode_chunked)\u001b[0m\n\u001b[1;32m   1281\u001b[0m \u001b[38;5;250m\u001b[39m\u001b[38;5;124;03m\"\"\"Send a complete request to the server.\"\"\"\u001b[39;00m\n\u001b[0;32m-> 1282\u001b[0m \u001b[38;5;28;43mself\u001b[39;49m\u001b[38;5;241;43m.\u001b[39;49m\u001b[43m_send_request\u001b[49m\u001b[43m(\u001b[49m\u001b[43mmethod\u001b[49m\u001b[43m,\u001b[49m\u001b[43m \u001b[49m\u001b[43murl\u001b[49m\u001b[43m,\u001b[49m\u001b[43m \u001b[49m\u001b[43mbody\u001b[49m\u001b[43m,\u001b[49m\u001b[43m \u001b[49m\u001b[43mheaders\u001b[49m\u001b[43m,\u001b[49m\u001b[43m \u001b[49m\u001b[43mencode_chunked\u001b[49m\u001b[43m)\u001b[49m\n",
      "File \u001b[0;32m~/.pyenv/versions/3.11.2/lib/python3.11/http/client.py:1328\u001b[0m, in \u001b[0;36mHTTPConnection._send_request\u001b[0;34m(self, method, url, body, headers, encode_chunked)\u001b[0m\n\u001b[1;32m   1327\u001b[0m     body \u001b[38;5;241m=\u001b[39m _encode(body, \u001b[38;5;124m'\u001b[39m\u001b[38;5;124mbody\u001b[39m\u001b[38;5;124m'\u001b[39m)\n\u001b[0;32m-> 1328\u001b[0m \u001b[38;5;28;43mself\u001b[39;49m\u001b[38;5;241;43m.\u001b[39;49m\u001b[43mendheaders\u001b[49m\u001b[43m(\u001b[49m\u001b[43mbody\u001b[49m\u001b[43m,\u001b[49m\u001b[43m \u001b[49m\u001b[43mencode_chunked\u001b[49m\u001b[38;5;241;43m=\u001b[39;49m\u001b[43mencode_chunked\u001b[49m\u001b[43m)\u001b[49m\n",
      "File \u001b[0;32m~/.pyenv/versions/3.11.2/lib/python3.11/http/client.py:1277\u001b[0m, in \u001b[0;36mHTTPConnection.endheaders\u001b[0;34m(self, message_body, encode_chunked)\u001b[0m\n\u001b[1;32m   1276\u001b[0m     \u001b[38;5;28;01mraise\u001b[39;00m CannotSendHeader()\n\u001b[0;32m-> 1277\u001b[0m \u001b[38;5;28;43mself\u001b[39;49m\u001b[38;5;241;43m.\u001b[39;49m\u001b[43m_send_output\u001b[49m\u001b[43m(\u001b[49m\u001b[43mmessage_body\u001b[49m\u001b[43m,\u001b[49m\u001b[43m \u001b[49m\u001b[43mencode_chunked\u001b[49m\u001b[38;5;241;43m=\u001b[39;49m\u001b[43mencode_chunked\u001b[49m\u001b[43m)\u001b[49m\n",
      "File \u001b[0;32m~/.pyenv/versions/3.11.2/lib/python3.11/http/client.py:1037\u001b[0m, in \u001b[0;36mHTTPConnection._send_output\u001b[0;34m(self, message_body, encode_chunked)\u001b[0m\n\u001b[1;32m   1036\u001b[0m \u001b[38;5;28;01mdel\u001b[39;00m \u001b[38;5;28mself\u001b[39m\u001b[38;5;241m.\u001b[39m_buffer[:]\n\u001b[0;32m-> 1037\u001b[0m \u001b[38;5;28;43mself\u001b[39;49m\u001b[38;5;241;43m.\u001b[39;49m\u001b[43msend\u001b[49m\u001b[43m(\u001b[49m\u001b[43mmsg\u001b[49m\u001b[43m)\u001b[49m\n\u001b[1;32m   1039\u001b[0m \u001b[38;5;28;01mif\u001b[39;00m message_body \u001b[38;5;129;01mis\u001b[39;00m \u001b[38;5;129;01mnot\u001b[39;00m \u001b[38;5;28;01mNone\u001b[39;00m:\n\u001b[1;32m   1040\u001b[0m \n\u001b[1;32m   1041\u001b[0m     \u001b[38;5;66;03m# create a consistent interface to message_body\u001b[39;00m\n",
      "File \u001b[0;32m~/.pyenv/versions/3.11.2/lib/python3.11/http/client.py:975\u001b[0m, in \u001b[0;36mHTTPConnection.send\u001b[0;34m(self, data)\u001b[0m\n\u001b[1;32m    974\u001b[0m \u001b[38;5;28;01mif\u001b[39;00m \u001b[38;5;28mself\u001b[39m\u001b[38;5;241m.\u001b[39mauto_open:\n\u001b[0;32m--> 975\u001b[0m     \u001b[38;5;28;43mself\u001b[39;49m\u001b[38;5;241;43m.\u001b[39;49m\u001b[43mconnect\u001b[49m\u001b[43m(\u001b[49m\u001b[43m)\u001b[49m\n\u001b[1;32m    976\u001b[0m \u001b[38;5;28;01melse\u001b[39;00m:\n",
      "File \u001b[0;32m~/.pyenv/versions/3.11.2/lib/python3.11/http/client.py:1447\u001b[0m, in \u001b[0;36mHTTPSConnection.connect\u001b[0;34m(self)\u001b[0m\n\u001b[1;32m   1445\u001b[0m \u001b[38;5;124m\"\u001b[39m\u001b[38;5;124mConnect to a host on a given (SSL) port.\u001b[39m\u001b[38;5;124m\"\u001b[39m\n\u001b[0;32m-> 1447\u001b[0m \u001b[38;5;28;43msuper\u001b[39;49m\u001b[43m(\u001b[49m\u001b[43m)\u001b[49m\u001b[38;5;241;43m.\u001b[39;49m\u001b[43mconnect\u001b[49m\u001b[43m(\u001b[49m\u001b[43m)\u001b[49m\n\u001b[1;32m   1449\u001b[0m \u001b[38;5;28;01mif\u001b[39;00m \u001b[38;5;28mself\u001b[39m\u001b[38;5;241m.\u001b[39m_tunnel_host:\n",
      "File \u001b[0;32m~/.pyenv/versions/3.11.2/lib/python3.11/http/client.py:941\u001b[0m, in \u001b[0;36mHTTPConnection.connect\u001b[0;34m(self)\u001b[0m\n\u001b[1;32m    940\u001b[0m sys\u001b[38;5;241m.\u001b[39maudit(\u001b[38;5;124m\"\u001b[39m\u001b[38;5;124mhttp.client.connect\u001b[39m\u001b[38;5;124m\"\u001b[39m, \u001b[38;5;28mself\u001b[39m, \u001b[38;5;28mself\u001b[39m\u001b[38;5;241m.\u001b[39mhost, \u001b[38;5;28mself\u001b[39m\u001b[38;5;241m.\u001b[39mport)\n\u001b[0;32m--> 941\u001b[0m \u001b[38;5;28mself\u001b[39m\u001b[38;5;241m.\u001b[39msock \u001b[38;5;241m=\u001b[39m \u001b[38;5;28;43mself\u001b[39;49m\u001b[38;5;241;43m.\u001b[39;49m\u001b[43m_create_connection\u001b[49m\u001b[43m(\u001b[49m\n\u001b[1;32m    942\u001b[0m \u001b[43m    \u001b[49m\u001b[43m(\u001b[49m\u001b[38;5;28;43mself\u001b[39;49m\u001b[38;5;241;43m.\u001b[39;49m\u001b[43mhost\u001b[49m\u001b[43m,\u001b[49m\u001b[38;5;28;43mself\u001b[39;49m\u001b[38;5;241;43m.\u001b[39;49m\u001b[43mport\u001b[49m\u001b[43m)\u001b[49m\u001b[43m,\u001b[49m\u001b[43m \u001b[49m\u001b[38;5;28;43mself\u001b[39;49m\u001b[38;5;241;43m.\u001b[39;49m\u001b[43mtimeout\u001b[49m\u001b[43m,\u001b[49m\u001b[43m \u001b[49m\u001b[38;5;28;43mself\u001b[39;49m\u001b[38;5;241;43m.\u001b[39;49m\u001b[43msource_address\u001b[49m\u001b[43m)\u001b[49m\n\u001b[1;32m    943\u001b[0m \u001b[38;5;66;03m# Might fail in OSs that don't implement TCP_NODELAY\u001b[39;00m\n",
      "File \u001b[0;32m~/.pyenv/versions/3.11.2/lib/python3.11/socket.py:827\u001b[0m, in \u001b[0;36mcreate_connection\u001b[0;34m(address, timeout, source_address, all_errors)\u001b[0m\n\u001b[1;32m    826\u001b[0m exceptions \u001b[38;5;241m=\u001b[39m []\n\u001b[0;32m--> 827\u001b[0m \u001b[38;5;28;01mfor\u001b[39;00m res \u001b[38;5;129;01min\u001b[39;00m \u001b[43mgetaddrinfo\u001b[49m\u001b[43m(\u001b[49m\u001b[43mhost\u001b[49m\u001b[43m,\u001b[49m\u001b[43m \u001b[49m\u001b[43mport\u001b[49m\u001b[43m,\u001b[49m\u001b[43m \u001b[49m\u001b[38;5;241;43m0\u001b[39;49m\u001b[43m,\u001b[49m\u001b[43m \u001b[49m\u001b[43mSOCK_STREAM\u001b[49m\u001b[43m)\u001b[49m:\n\u001b[1;32m    828\u001b[0m     af, socktype, proto, canonname, sa \u001b[38;5;241m=\u001b[39m res\n",
      "File \u001b[0;32m~/.pyenv/versions/3.11.2/lib/python3.11/socket.py:962\u001b[0m, in \u001b[0;36mgetaddrinfo\u001b[0;34m(host, port, family, type, proto, flags)\u001b[0m\n\u001b[1;32m    961\u001b[0m addrlist \u001b[38;5;241m=\u001b[39m []\n\u001b[0;32m--> 962\u001b[0m \u001b[38;5;28;01mfor\u001b[39;00m res \u001b[38;5;129;01min\u001b[39;00m \u001b[43m_socket\u001b[49m\u001b[38;5;241;43m.\u001b[39;49m\u001b[43mgetaddrinfo\u001b[49m\u001b[43m(\u001b[49m\u001b[43mhost\u001b[49m\u001b[43m,\u001b[49m\u001b[43m \u001b[49m\u001b[43mport\u001b[49m\u001b[43m,\u001b[49m\u001b[43m \u001b[49m\u001b[43mfamily\u001b[49m\u001b[43m,\u001b[49m\u001b[43m \u001b[49m\u001b[38;5;28;43mtype\u001b[39;49m\u001b[43m,\u001b[49m\u001b[43m \u001b[49m\u001b[43mproto\u001b[49m\u001b[43m,\u001b[49m\u001b[43m \u001b[49m\u001b[43mflags\u001b[49m\u001b[43m)\u001b[49m:\n\u001b[1;32m    963\u001b[0m     af, socktype, proto, canonname, sa \u001b[38;5;241m=\u001b[39m res\n",
      "\u001b[0;31mgaierror\u001b[0m: [Errno 8] nodename nor servname provided, or not known",
      "\nDuring handling of the above exception, another exception occurred:\n",
      "\u001b[0;31mURLError\u001b[0m                                  Traceback (most recent call last)",
      "Cell \u001b[0;32mIn[9], line 3\u001b[0m\n\u001b[1;32m      1\u001b[0m \u001b[38;5;28;01mfrom\u001b[39;00m \u001b[38;5;21;01msrc\u001b[39;00m \u001b[38;5;28;01mimport\u001b[39;00m scraping\n\u001b[0;32m----> 3\u001b[0m html_paths_race_list \u001b[38;5;241m=\u001b[39m \u001b[43mscraping\u001b[49m\u001b[38;5;241;43m.\u001b[39;49m\u001b[43mscrape_race_detail_html\u001b[49m\u001b[43m(\u001b[49m\u001b[43mrace_id_list\u001b[49m\u001b[38;5;241;43m=\u001b[39;49m\u001b[43mrace_id_list\u001b[49m\u001b[43m,\u001b[49m\u001b[43m \u001b[49m\u001b[43msave_dir\u001b[49m\u001b[38;5;241;43m=\u001b[39;49m\u001b[43mRACE_DETAIL_HTML_DIR\u001b[49m\u001b[43m)\u001b[49m\n",
      "File \u001b[0;32m~/dev/python/keiba/src/scraping.py:115\u001b[0m, in \u001b[0;36mscrape_race_detail_html\u001b[0;34m(race_id_list, save_dir)\u001b[0m\n\u001b[1;32m    113\u001b[0m \u001b[38;5;66;03m# scraping\u001b[39;00m\n\u001b[1;32m    114\u001b[0m url \u001b[38;5;241m=\u001b[39m \u001b[38;5;124mf\u001b[39m\u001b[38;5;124m\"\u001b[39m\u001b[38;5;124mhttps://db.netkeiba.com/race/\u001b[39m\u001b[38;5;132;01m{\u001b[39;00mrace_id\u001b[38;5;132;01m}\u001b[39;00m\u001b[38;5;124m\"\u001b[39m\n\u001b[0;32m--> 115\u001b[0m html \u001b[38;5;241m=\u001b[39m \u001b[43murl_open_with_headers\u001b[49m\u001b[43m(\u001b[49m\u001b[43murl\u001b[49m\u001b[43m)\u001b[49m\n\u001b[1;32m    116\u001b[0m time\u001b[38;5;241m.\u001b[39msleep(\u001b[38;5;241m1\u001b[39m)\n\u001b[1;32m    118\u001b[0m \u001b[38;5;66;03m# write html\u001b[39;00m\n",
      "File \u001b[0;32m~/dev/python/keiba/src/scraping.py:26\u001b[0m, in \u001b[0;36murl_open_with_headers\u001b[0;34m(url)\u001b[0m\n\u001b[1;32m     22\u001b[0m headers \u001b[38;5;241m=\u001b[39m {\n\u001b[1;32m     23\u001b[0m     \u001b[38;5;124m\"\u001b[39m\u001b[38;5;124mUser-Agent\u001b[39m\u001b[38;5;124m\"\u001b[39m: \u001b[38;5;124m\"\u001b[39m\u001b[38;5;124mMozilla/5.0 (Windows NT 10.0; Win64; x64) AppleWebKit/537.36 (KHTML, like Gecko) Chrome/110.0.0.0 Safari/537.36\u001b[39m\u001b[38;5;124m\"\u001b[39m\n\u001b[1;32m     24\u001b[0m }\n\u001b[1;32m     25\u001b[0m request \u001b[38;5;241m=\u001b[39m Request(url, headers\u001b[38;5;241m=\u001b[39mheaders)\n\u001b[0;32m---> 26\u001b[0m html \u001b[38;5;241m=\u001b[39m \u001b[43murlopen\u001b[49m\u001b[43m(\u001b[49m\u001b[43mrequest\u001b[49m\u001b[43m)\u001b[49m\u001b[38;5;241m.\u001b[39mread()\n\u001b[1;32m     27\u001b[0m \u001b[38;5;28;01mreturn\u001b[39;00m html\n",
      "File \u001b[0;32m~/.pyenv/versions/3.11.2/lib/python3.11/urllib/request.py:216\u001b[0m, in \u001b[0;36murlopen\u001b[0;34m(url, data, timeout, cafile, capath, cadefault, context)\u001b[0m\n\u001b[1;32m    214\u001b[0m \u001b[38;5;28;01melse\u001b[39;00m:\n\u001b[1;32m    215\u001b[0m     opener \u001b[38;5;241m=\u001b[39m _opener\n\u001b[0;32m--> 216\u001b[0m \u001b[38;5;28;01mreturn\u001b[39;00m \u001b[43mopener\u001b[49m\u001b[38;5;241;43m.\u001b[39;49m\u001b[43mopen\u001b[49m\u001b[43m(\u001b[49m\u001b[43murl\u001b[49m\u001b[43m,\u001b[49m\u001b[43m \u001b[49m\u001b[43mdata\u001b[49m\u001b[43m,\u001b[49m\u001b[43m \u001b[49m\u001b[43mtimeout\u001b[49m\u001b[43m)\u001b[49m\n",
      "File \u001b[0;32m~/.pyenv/versions/3.11.2/lib/python3.11/urllib/request.py:519\u001b[0m, in \u001b[0;36mOpenerDirector.open\u001b[0;34m(self, fullurl, data, timeout)\u001b[0m\n\u001b[1;32m    516\u001b[0m     req \u001b[38;5;241m=\u001b[39m meth(req)\n\u001b[1;32m    518\u001b[0m sys\u001b[38;5;241m.\u001b[39maudit(\u001b[38;5;124m'\u001b[39m\u001b[38;5;124murllib.Request\u001b[39m\u001b[38;5;124m'\u001b[39m, req\u001b[38;5;241m.\u001b[39mfull_url, req\u001b[38;5;241m.\u001b[39mdata, req\u001b[38;5;241m.\u001b[39mheaders, req\u001b[38;5;241m.\u001b[39mget_method())\n\u001b[0;32m--> 519\u001b[0m response \u001b[38;5;241m=\u001b[39m \u001b[38;5;28;43mself\u001b[39;49m\u001b[38;5;241;43m.\u001b[39;49m\u001b[43m_open\u001b[49m\u001b[43m(\u001b[49m\u001b[43mreq\u001b[49m\u001b[43m,\u001b[49m\u001b[43m \u001b[49m\u001b[43mdata\u001b[49m\u001b[43m)\u001b[49m\n\u001b[1;32m    521\u001b[0m \u001b[38;5;66;03m# post-process response\u001b[39;00m\n\u001b[1;32m    522\u001b[0m meth_name \u001b[38;5;241m=\u001b[39m protocol\u001b[38;5;241m+\u001b[39m\u001b[38;5;124m\"\u001b[39m\u001b[38;5;124m_response\u001b[39m\u001b[38;5;124m\"\u001b[39m\n",
      "File \u001b[0;32m~/.pyenv/versions/3.11.2/lib/python3.11/urllib/request.py:536\u001b[0m, in \u001b[0;36mOpenerDirector._open\u001b[0;34m(self, req, data)\u001b[0m\n\u001b[1;32m    533\u001b[0m     \u001b[38;5;28;01mreturn\u001b[39;00m result\n\u001b[1;32m    535\u001b[0m protocol \u001b[38;5;241m=\u001b[39m req\u001b[38;5;241m.\u001b[39mtype\n\u001b[0;32m--> 536\u001b[0m result \u001b[38;5;241m=\u001b[39m \u001b[38;5;28;43mself\u001b[39;49m\u001b[38;5;241;43m.\u001b[39;49m\u001b[43m_call_chain\u001b[49m\u001b[43m(\u001b[49m\u001b[38;5;28;43mself\u001b[39;49m\u001b[38;5;241;43m.\u001b[39;49m\u001b[43mhandle_open\u001b[49m\u001b[43m,\u001b[49m\u001b[43m \u001b[49m\u001b[43mprotocol\u001b[49m\u001b[43m,\u001b[49m\u001b[43m \u001b[49m\u001b[43mprotocol\u001b[49m\u001b[43m \u001b[49m\u001b[38;5;241;43m+\u001b[39;49m\n\u001b[1;32m    537\u001b[0m \u001b[43m                          \u001b[49m\u001b[38;5;124;43m'\u001b[39;49m\u001b[38;5;124;43m_open\u001b[39;49m\u001b[38;5;124;43m'\u001b[39;49m\u001b[43m,\u001b[49m\u001b[43m \u001b[49m\u001b[43mreq\u001b[49m\u001b[43m)\u001b[49m\n\u001b[1;32m    538\u001b[0m \u001b[38;5;28;01mif\u001b[39;00m result:\n\u001b[1;32m    539\u001b[0m     \u001b[38;5;28;01mreturn\u001b[39;00m result\n",
      "File \u001b[0;32m~/.pyenv/versions/3.11.2/lib/python3.11/urllib/request.py:496\u001b[0m, in \u001b[0;36mOpenerDirector._call_chain\u001b[0;34m(self, chain, kind, meth_name, *args)\u001b[0m\n\u001b[1;32m    494\u001b[0m \u001b[38;5;28;01mfor\u001b[39;00m handler \u001b[38;5;129;01min\u001b[39;00m handlers:\n\u001b[1;32m    495\u001b[0m     func \u001b[38;5;241m=\u001b[39m \u001b[38;5;28mgetattr\u001b[39m(handler, meth_name)\n\u001b[0;32m--> 496\u001b[0m     result \u001b[38;5;241m=\u001b[39m \u001b[43mfunc\u001b[49m\u001b[43m(\u001b[49m\u001b[38;5;241;43m*\u001b[39;49m\u001b[43margs\u001b[49m\u001b[43m)\u001b[49m\n\u001b[1;32m    497\u001b[0m     \u001b[38;5;28;01mif\u001b[39;00m result \u001b[38;5;129;01mis\u001b[39;00m \u001b[38;5;129;01mnot\u001b[39;00m \u001b[38;5;28;01mNone\u001b[39;00m:\n\u001b[1;32m    498\u001b[0m         \u001b[38;5;28;01mreturn\u001b[39;00m result\n",
      "File \u001b[0;32m~/.pyenv/versions/3.11.2/lib/python3.11/urllib/request.py:1391\u001b[0m, in \u001b[0;36mHTTPSHandler.https_open\u001b[0;34m(self, req)\u001b[0m\n\u001b[1;32m   1390\u001b[0m \u001b[38;5;28;01mdef\u001b[39;00m \u001b[38;5;21mhttps_open\u001b[39m(\u001b[38;5;28mself\u001b[39m, req):\n\u001b[0;32m-> 1391\u001b[0m     \u001b[38;5;28;01mreturn\u001b[39;00m \u001b[38;5;28;43mself\u001b[39;49m\u001b[38;5;241;43m.\u001b[39;49m\u001b[43mdo_open\u001b[49m\u001b[43m(\u001b[49m\u001b[43mhttp\u001b[49m\u001b[38;5;241;43m.\u001b[39;49m\u001b[43mclient\u001b[49m\u001b[38;5;241;43m.\u001b[39;49m\u001b[43mHTTPSConnection\u001b[49m\u001b[43m,\u001b[49m\u001b[43m \u001b[49m\u001b[43mreq\u001b[49m\u001b[43m,\u001b[49m\n\u001b[1;32m   1392\u001b[0m \u001b[43m        \u001b[49m\u001b[43mcontext\u001b[49m\u001b[38;5;241;43m=\u001b[39;49m\u001b[38;5;28;43mself\u001b[39;49m\u001b[38;5;241;43m.\u001b[39;49m\u001b[43m_context\u001b[49m\u001b[43m,\u001b[49m\u001b[43m \u001b[49m\u001b[43mcheck_hostname\u001b[49m\u001b[38;5;241;43m=\u001b[39;49m\u001b[38;5;28;43mself\u001b[39;49m\u001b[38;5;241;43m.\u001b[39;49m\u001b[43m_check_hostname\u001b[49m\u001b[43m)\u001b[49m\n",
      "File \u001b[0;32m~/.pyenv/versions/3.11.2/lib/python3.11/urllib/request.py:1351\u001b[0m, in \u001b[0;36mAbstractHTTPHandler.do_open\u001b[0;34m(self, http_class, req, **http_conn_args)\u001b[0m\n\u001b[1;32m   1348\u001b[0m         h\u001b[38;5;241m.\u001b[39mrequest(req\u001b[38;5;241m.\u001b[39mget_method(), req\u001b[38;5;241m.\u001b[39mselector, req\u001b[38;5;241m.\u001b[39mdata, headers,\n\u001b[1;32m   1349\u001b[0m                   encode_chunked\u001b[38;5;241m=\u001b[39mreq\u001b[38;5;241m.\u001b[39mhas_header(\u001b[38;5;124m'\u001b[39m\u001b[38;5;124mTransfer-encoding\u001b[39m\u001b[38;5;124m'\u001b[39m))\n\u001b[1;32m   1350\u001b[0m     \u001b[38;5;28;01mexcept\u001b[39;00m \u001b[38;5;167;01mOSError\u001b[39;00m \u001b[38;5;28;01mas\u001b[39;00m err: \u001b[38;5;66;03m# timeout error\u001b[39;00m\n\u001b[0;32m-> 1351\u001b[0m         \u001b[38;5;28;01mraise\u001b[39;00m URLError(err)\n\u001b[1;32m   1352\u001b[0m     r \u001b[38;5;241m=\u001b[39m h\u001b[38;5;241m.\u001b[39mgetresponse()\n\u001b[1;32m   1353\u001b[0m \u001b[38;5;28;01mexcept\u001b[39;00m:\n",
      "\u001b[0;31mURLError\u001b[0m: <urlopen error [Errno 8] nodename nor servname provided, or not known>"
     ]
    }
   ],
   "source": [
    "from src import scraping\n",
    "\n",
    "html_paths_race_list = scraping.scrape_race_detail_html(race_id_list=race_id_list, save_dir=RACE_DETAIL_HTML_DIR)"
   ]
  }
 ],
 "metadata": {
  "kernelspec": {
   "display_name": ".venv",
   "language": "python",
   "name": "python3"
  },
  "language_info": {
   "codemirror_mode": {
    "name": "ipython",
    "version": 3
   },
   "file_extension": ".py",
   "mimetype": "text/x-python",
   "name": "python",
   "nbconvert_exporter": "python",
   "pygments_lexer": "ipython3",
   "version": "3.11.2"
  }
 },
 "nbformat": 4,
 "nbformat_minor": 2
}
